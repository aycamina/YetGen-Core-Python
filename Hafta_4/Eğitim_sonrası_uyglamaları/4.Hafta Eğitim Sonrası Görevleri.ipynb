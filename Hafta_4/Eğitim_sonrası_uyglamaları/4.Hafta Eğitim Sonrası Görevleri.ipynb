{
 "cells": [
  {
   "cell_type": "markdown",
   "metadata": {},
   "source": [
    "# Problem 1\n",
    "`ogrenciler` adında bir sözlük oluşturunuz. Kullanıcıdan döngü yardımıyla 3 öğrenci için veri girmesini isteyerek öğrencilerin sırasıyla okul numarası, isim, soy isim, telefon numarası ve doğum tarihi bilgilerini alınız. Aldığınız öğrenci bilgilerini yine aynı döngü yardımıyla `ogrenciler` adındaki sözlükte saklayınız. Daha sonra öğrenci bilgilerinin bulunduğu sözlük yapısını ekrana bastırınız.\n",
    "\n"
   ]
  },
  {
   "cell_type": "code",
   "execution_count": 7,
   "metadata": {},
   "outputs": [
    {
     "name": "stdout",
     "output_type": "stream",
     "text": [
      "{1: {'isim': 'a', 'soyisim': 'a', 'tel_no': '123', 'dogum': 2001}, 2: {'isim': 'bb', 'soyisim': 'bb', 'tel_no': '456', 'dogum': 2003}, 456: {'isim': 'g', 'soyisim': 'g', 'tel_no': '423578987', 'dogum': 2005}}\n"
     ]
    }
   ],
   "source": [
    "okulno1 = int(input(\"1. öğrencinin okul numarasını giriniz:\"))\n",
    "isim1 = input(\"1. öğrencinin ismini giriniz:\")\n",
    "soyisim1 = input(\"1. öğrencinin soyismini giriniz:\")\n",
    "telno1 = input(\"1. öğrencinin telefon numarasını giriniz:\")\n",
    "dogum1 = int(input(\"1. öğrencinin doğum tarihini giriniz:\"))\n",
    "\n",
    "okulno2 = int(input(\"2. öğrencinin okul numarasını giriniz:\"))\n",
    "isim2 = input(\"2. öğrencinin ismini giriniz:\")\n",
    "soyisim2 = input(\"2. öğrencinin soyismini giriniz:\")\n",
    "telno2 = input(\"2. öğrencinin telefon numarasını giriniz:\")\n",
    "dogum2 = int(input(\"2. öğrencinin doğum tarihini giriniz:\"))\n",
    "\n",
    "okulno3 = int(input(\"3. öğrencinin okul numarasını giriniz:\"))\n",
    "isim3 = input(\"3. öğrencinin ismini giriniz:\")\n",
    "soyisim3 = input(\"3. öğrencinin soyismini giriniz:\")\n",
    "telno3 = input(\"3. öğrencinin telefon numarasını giriniz:\")\n",
    "dogum3 = int(input(\"3. öğrencinin doğum tarihini giriniz:\"))\n",
    "\n",
    "\n",
    "ogrenciler = {\n",
    "    okulno1: {\n",
    "        \"isim\": isim1,\n",
    "        \"soyisim\": soyisim1,\n",
    "        \"tel_no\": telno1,\n",
    "        \"dogum\": dogum1\n",
    "    },\n",
    "    okulno2: {\n",
    "        \"isim\": isim2,\n",
    "        \"soyisim\": soyisim2,\n",
    "        \"tel_no\": telno2,\n",
    "        \"dogum\": dogum2\n",
    "    },\n",
    "    okulno3: {\n",
    "        \"isim\": isim3,\n",
    "        \"soyisim\": soyisim3,\n",
    "        \"tel_no\": telno3,\n",
    "        \"dogum\": dogum3\n",
    "    }\n",
    "}\n",
    "\n",
    "print(ogrenciler)"
   ]
  },
  {
   "cell_type": "markdown",
   "metadata": {},
   "source": [
    "# Problem 2\n",
    "\n",
    "### a - Biraz ısınarak başlayalım!\n",
    "\n",
    "```\n",
    "numbers = [5,10,10,15,15,15,20,20,20,20]\n",
    "```\n",
    "\n",
    "Yukarıda `numbers` adında 10 elemanlı bir liste verilmiştir. Bu listenin her elemanını kontrol eden ve tekrar eden elemanları bir kez olacak şekilde başka bir listeye kopyalayan bir program yazınız. Son olarak oluşturduğunuz listeyi ekrana bastırınız.\n",
    "\n",
    "\n",
    "\n",
    "\n",
    "```\n",
    ">Output\n",
    "[5, 10, 15, 20]\n",
    "```\n"
   ]
  },
  {
   "cell_type": "code",
   "execution_count": 12,
   "metadata": {},
   "outputs": [
    {
     "name": "stdout",
     "output_type": "stream",
     "text": [
      "[5, 10, 15, 20]\n"
     ]
    }
   ],
   "source": [
    "# 2.Problemin a Şıkkının Çözümünü Buraya Yazınız\n",
    "numbers = [5, 10, 10, 15, 15, 20, 20, 20]\n",
    "newnumbers = []\n",
    "for i in numbers:\n",
    "    if i not in newnumbers:\n",
    "        newnumbers.append(i)\n",
    "\n",
    "print(newnumbers)\n"
   ]
  },
  {
   "cell_type": "markdown",
   "metadata": {},
   "source": [
    "### 🌶️ b) Hadi işi biraz daha zorlaştıralım! \n",
    "\n",
    "\n",
    "Şimdiyse senden `numbers` isimli listedeki tekrar eden elemanları `repeatNumbers` adındaki listeye; tekrar etmeyen elemanları `uniqueNumbers`adındaki listeye kopyalayan yazmanı ve listeleri ekrana bastırmanı bekliyoruz\n",
    "\n",
    "```\n",
    ">Output\n",
    "Tekrar Eden Elemanlar: [10, 10, 15, 15, 15, 20, 20, 20, 20]\n",
    "Tekrar Etmeyen Elemanlar: [5]\n",
    "```"
   ]
  },
  {
   "cell_type": "code",
   "execution_count": 1,
   "metadata": {},
   "outputs": [
    {
     "name": "stdout",
     "output_type": "stream",
     "text": [
      "Tekrar Eden Elemanlar: [10, 10, 15, 15, 15, 20, 20, 20, 20]\n",
      "Tekrar Etmeyen Elemanlar: [5]\n"
     ]
    }
   ],
   "source": [
    "numbers = [5, 10, 10, 15, 15, 15, 20, 20, 20, 20]\n",
    "uniqueNumbers = []\n",
    "repeatedNumbers = []\n",
    "for i in range(len(numbers)):\n",
    "    if numbers[i] in numbers[:i] or numbers[i] in numbers[i+1:]:\n",
    "        repeatedNumbers.append(numbers[i])\n",
    "    elif numbers[i] not in repeatedNumbers:\n",
    "        uniqueNumbers.append(numbers[i])\n",
    "print(\"Tekrar Eden Elemanlar:\", repeatedNumbers)\n",
    "print(\"Tekrar Etmeyen Elemanlar:\", uniqueNumbers)\n",
    "\n",
    "###\n",
    "numbers = [5, 10, 10, 15, 15, 15, 20, 20, 20, 20]\n",
    "uniqueNumbers = []\n",
    "repeatedNumbers = []\n",
    "\n",
    "for number in numbers:\n",
    "    if numbers.count(number) == 1:\n",
    "        uniqueNumbers.append(number)\n",
    "    else:\n",
    "        repeatedNumbers.append(number)\n",
    "\n",
    "print(uniqueNumbers)\n",
    "print(repeatedNumbers)"
   ]
  },
  {
   "cell_type": "markdown",
   "metadata": {},
   "source": [
    "# Problem 3\n",
    "sn1 = {1,2,3,4,5}\n",
    "\n",
    "sn2 = {4,5,6,7,8}\n",
    "\n",
    " Verilen 2 adet küme için kesişimlerini, farklarını ve birleşimlerini bulunuz. "
   ]
  },
  {
   "cell_type": "code",
   "execution_count": 25,
   "metadata": {},
   "outputs": [
    {
     "name": "stdout",
     "output_type": "stream",
     "text": [
      "intersection: {4, 5}\n",
      "difference: {1, 2, 3}\n",
      "union: {1, 2, 3, 4, 5, 6, 7, 8}\n"
     ]
    }
   ],
   "source": [
    "# 3.Problemin Çözümünü Buraya Yazınız\n",
    "sn1={1,2,3,4,5}\n",
    "sn2={4,5,6,7,8}\n",
    "a = sn1.intersection(sn2)\n",
    "b= sn1.difference(sn2)\n",
    "c =sn1.union(sn2)\n",
    "print(\"intersection:\",a)\n",
    "print(\"difference:\",b)\n",
    "print(\"union:\",c)\n",
    "\n",
    "###\n",
    "print(sn1 | sn2)\n",
    "print(sn1 - sn2)\n",
    "print(sn2 - sn1)\n",
    "print(sn1 & sn2)\n"
   ]
  },
  {
   "cell_type": "markdown",
   "metadata": {},
   "source": [
    "# Problem 4\n",
    "\n",
    "Buradaki işlemlerimizin tamamı stringler içindir. Aşağıda verilecek olan metodlar için kendinizin örnek yaratması gerekmektedir. \n",
    "\n",
    "Örneğin `upper` için `string` değişkeni oluştururken` k = \"BAC\"` şeklinde oluşturmayınız. Bunun yerine k değişkenini `k = \"bac`\" şeklinde oluşturmanız `upper` metodundaki değişimi görebilmeniz için daha iyi olacaktır.\n",
    "\n",
    "Bütün metodlardaki değişimin gözle görülür şekilde değişimi beklenmektedir.\n",
    "\n",
    "\n",
    "1- capitalize(), lower(), upper(), swapcase(), title(), replace()\n",
    "\n",
    "2- endswith(), startswith(), find(), index(), count()\n",
    "\n",
    "3- split(), strip(), join(), islower(), isalpha(), isdigit()\n",
    "\n",
    "\n",
    "Yukarıdaki `string` metodlarındaki değişimleri görebildiğimiz bir program yazınız.\n"
   ]
  },
  {
   "cell_type": "code",
   "execution_count": 28,
   "metadata": {},
   "outputs": [
    {
     "name": "stdout",
     "output_type": "stream",
     "text": [
      "Original string: aycA\n",
      "capitalize(): Ayca\n",
      "lower(): ayca\n",
      "upper(): AYCA\n",
      "swapcase(): AYCa\n",
      "title(): Ayca\n",
      "replace('a', 'e'): eycA\n",
      "endswith('a'): False\n",
      "startswith('a'): True\n",
      "find('y'): 1\n",
      "index('c'): 2\n",
      "count('a'): 1\n",
      "split('y'): ['a', 'cA']\n",
      "strip('a'): ycA\n",
      "join(['A', 'B', 'C']): A B C\n",
      "islower(): False\n",
      "isalpha(): True\n",
      "isdigit(): False\n"
     ]
    }
   ],
   "source": [
    "# 4.Problemin Çözümünü Buraya Yazınız\n",
    "k = \"aycA\"\n",
    "print(\"Original string:\", k)\n",
    "print(\"capitalize():\", k.capitalize())\n",
    "print(\"lower():\", k.lower())\n",
    "print(\"upper():\", k.upper())\n",
    "print(\"swapcase():\", k.swapcase())\n",
    "print(\"title():\", k.title())\n",
    "print(\"replace('a', 'e'):\", k.replace('a', 'e'))\n",
    "\n",
    "print(\"endswith('a'):\", k.endswith('a'))\n",
    "print(\"startswith('a'):\", k.startswith('a'))\n",
    "print(\"find('y'):\", k.find('y'))\n",
    "print(\"index('c'):\", k.index('c'))\n",
    "print(\"count('a'):\", k.count('a'))\n",
    "\n",
    "print(\"split('y'):\", k.split('y'))\n",
    "print(\"strip('a'):\", k.strip('a'))\n",
    "print(\"join(['A', 'B', 'C']):\", ' '.join(['A', 'B', 'C']))\n",
    "print(\"islower():\", k.islower())\n",
    "print(\"isalpha():\", k.isalpha())\n",
    "print(\"isdigit():\", k.isdigit())\n",
    "\n",
    " \n"
   ]
  }
 ],
 "metadata": {
  "kernelspec": {
   "display_name": "Python 3.10.5 64-bit",
   "language": "python",
   "name": "python3"
  },
  "language_info": {
   "codemirror_mode": {
    "name": "ipython",
    "version": 3
   },
   "file_extension": ".py",
   "mimetype": "text/x-python",
   "name": "python",
   "nbconvert_exporter": "python",
   "pygments_lexer": "ipython3",
   "version": "3.12.3"
  },
  "orig_nbformat": 4,
  "vscode": {
   "interpreter": {
    "hash": "5026d2d6e7aaaaba093def813beadff083d8733e4a511af01735cbabd156995d"
   }
  }
 },
 "nbformat": 4,
 "nbformat_minor": 2
}
