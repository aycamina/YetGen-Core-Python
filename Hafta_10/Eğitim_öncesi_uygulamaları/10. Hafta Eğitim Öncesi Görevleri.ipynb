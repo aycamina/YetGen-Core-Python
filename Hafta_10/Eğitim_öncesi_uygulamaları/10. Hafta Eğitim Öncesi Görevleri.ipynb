{
 "cells": [
  {
   "attachments": {},
   "cell_type": "markdown",
   "metadata": {},
   "source": [
    "# Problem 1"
   ]
  },
  {
   "cell_type": "code",
   "execution_count": 7,
   "metadata": {},
   "outputs": [
    {
     "name": "stdout",
     "output_type": "stream",
     "text": [
      "[7 6 6 8 9]\n",
      "(5,)\n",
      "[[7 6 6 8 9]]\n",
      "2\n"
     ]
    }
   ],
   "source": [
    "# 1 - numpy kütüphanesini import edin  \n",
    "import numpy as np\n",
    "\n",
    "# 2 - 0 ile 10 arasında 5 sayıdan oluşan matris üretin\n",
    "matrix = np.random.randint(0, 11, size=(5,))\n",
    "print(matrix)\n",
    "\n",
    "# 3 - matris'in boyutunu öğrenin\n",
    "print(matrix.shape)\n",
    "\n",
    "# 4 - matris'i yeniden boyutlandırın\n",
    "reshaped_matrix = matrix.reshape(1, 5)\n",
    "print(reshaped_matrix)\n",
    "# 5 - matris'in boyut sayısını öğrenin\n",
    "print(reshaped_matrix.ndim)\n"
   ]
  },
  {
   "attachments": {},
   "cell_type": "markdown",
   "metadata": {},
   "source": [
    "# Problem 2"
   ]
  },
  {
   "cell_type": "code",
   "execution_count": 15,
   "metadata": {},
   "outputs": [
    {
     "name": "stdout",
     "output_type": "stream",
     "text": [
      "[1 3 5 7 9]\n",
      "[array([1, 3, 5]), array([7, 9])]\n",
      "[1 3 5 7 9]\n"
     ]
    }
   ],
   "source": [
    "# 1 - 0 ile 10 arasında bulunan tek sayılardan oluşan matris üretin\n",
    "x=np.arange(1,10,2)\n",
    "print(x)\n",
    "\n",
    "# 2 - Oluşturduğunuz matrisi parçalayın\n",
    "split_x= np.split(x,[3])\n",
    "print(split_x)\n",
    "\n",
    "# 3 - Parçalanmış matrisleri birleştirin\n",
    "merge_x=np.concatenate(split_x)\n",
    "print(merge_x)\n"
   ]
  },
  {
   "attachments": {},
   "cell_type": "markdown",
   "metadata": {},
   "source": [
    "# Problem 3"
   ]
  },
  {
   "cell_type": "code",
   "execution_count": 17,
   "metadata": {},
   "outputs": [
    {
     "name": "stdout",
     "output_type": "stream",
     "text": [
      "[ 5  7  9 11 13 15 17 19 21 23 25 27 29 31 33 35 37 39 41 43 45 47 49 51\n",
      " 53 55 57 59 61 63 65 67 69 71 73 75 77 79 81 83 85 87 89 91 93 95 97 99]\n",
      "1\n",
      "(48,)\n",
      "48\n",
      "int64\n"
     ]
    }
   ],
   "source": [
    "# 1 - 5 ile 100 arasında ikişer ikişer atlayarak rastgele 10 sayıdan oluşan matris üretin\n",
    "y=np.arange(5,100,2)\n",
    "print(y)\n",
    "\n",
    "# 2 - matris'in özelliklerini inceleyin\n",
    "print(y.ndim)\n",
    "print(y.shape)\n",
    "print(y.size)\n",
    "print(y.dtype)\n"
   ]
  }
 ],
 "metadata": {
  "kernelspec": {
   "display_name": "Python 3",
   "language": "python",
   "name": "python3"
  },
  "language_info": {
   "codemirror_mode": {
    "name": "ipython",
    "version": 3
   },
   "file_extension": ".py",
   "mimetype": "text/x-python",
   "name": "python",
   "nbconvert_exporter": "python",
   "pygments_lexer": "ipython3",
   "version": "3.12.3"
  },
  "orig_nbformat": 4,
  "vscode": {
   "interpreter": {
    "hash": "5026d2d6e7aaaaba093def813beadff083d8733e4a511af01735cbabd156995d"
   }
  }
 },
 "nbformat": 4,
 "nbformat_minor": 2
}
