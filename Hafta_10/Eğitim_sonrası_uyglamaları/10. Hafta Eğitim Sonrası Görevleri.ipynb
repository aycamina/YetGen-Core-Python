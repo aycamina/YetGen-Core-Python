{
 "cells": [
  {
   "attachments": {},
   "cell_type": "markdown",
   "metadata": {},
   "source": [
    "# Problem 1 "
   ]
  },
  {
   "cell_type": "code",
   "execution_count": 1,
   "metadata": {},
   "outputs": [
    {
     "name": "stdout",
     "output_type": "stream",
     "text": [
      "[9 2 3 8 4]\n",
      "[2 3 4 8 9]\n"
     ]
    }
   ],
   "source": [
    "# 1 - numpy kütüphanesini import edin\n",
    "import numpy as np\n",
    "\n",
    "# 2 - 5 elemanlı bir numpy array oluşturun\n",
    "x = np.array([9, 2, 3, 8, 4])\n",
    "print(x)\n",
    "# 3 - Oluşturduğunuz arrayi küçükten büyüğe sıralayın.\n",
    "x.sort()\n",
    "print(x)\n"
   ]
  },
  {
   "attachments": {},
   "cell_type": "markdown",
   "metadata": {},
   "source": [
    "# Problem 2"
   ]
  },
  {
   "cell_type": "code",
   "execution_count": 27,
   "metadata": {},
   "outputs": [
    {
     "name": "stdout",
     "output_type": "stream",
     "text": [
      "[10 15 30 45 60]\n",
      "[ 5  6  7  8  9 10 11 12 13 14]\n",
      "[50 55 60 65 70 75 80 85 90 95]\n",
      "[0. 0. 0. 0. 0. 0. 0. 0. 0. 0.]\n",
      "[1. 1. 1. 1. 1. 1. 1. 1. 1. 1.]\n",
      "[  0.  25.  50.  75. 100.]\n",
      "[20 23 20 26 12]\n",
      "[ 0.05632026 -0.65670338 -0.73121046 -0.43492877 -0.2071853   0.33560536\n",
      " -0.5506072  -0.26538146 -0.75968943  0.33406454]\n",
      "[[13 34 39 15 27]\n",
      " [29 37 42 30 37]\n",
      " [43 25 42 23 43]]\n",
      "[128 175 176]\n",
      "[ 85  96 123  68 107]\n",
      "43\n",
      "13\n",
      "31.933333333333334\n",
      "(np.int64(2), np.int64(0))\n",
      "[10 11 12]\n",
      "[19 18 17 16 15 14 13 12 11 10]\n",
      "[13 34 39 15 27]\n",
      "42\n",
      "[13 29 43]\n",
      "[[ 169 1156 1521  225  729]\n",
      " [ 841 1369 1764  900 1369]\n",
      " [1849  625 1764  529 1849]]\n",
      "[[ 40 -29  -3 -35 -42]\n",
      " [ 44 -30 -43 -32  46]\n",
      " [ 11   8  41 -34   3]]\n",
      "[40 44 46  8]\n"
     ]
    }
   ],
   "source": [
    "# 1- (10,15,30,45,60) değerlerine sahip numpy dizisi oluşturunuz.\n",
    "y = np.array([10,15,30,45,60])\n",
    "print(y)\n",
    "\n",
    "\n",
    "\n",
    "# 2- (5-15) arasındaki sayılarla numpy dizisi oluşturunuz.\n",
    "a=np.arange(5,15)\n",
    "print(a)\n",
    " \n",
    "# 3- (50-100) arasında 5'er 5'er artarak numpy dizisi oluşturunuz.\n",
    "b=np.arange(50,100,5)\n",
    "print(b)\n",
    "\n",
    "# 4- 10 elemanlı sıfırlardan oluşan bir dizi oluşturunuz.\n",
    "c=np.zeros(10)\n",
    "print(c)\n",
    "\n",
    "# 5- 10 elemanlı birlerden oluşan bir dizi oluşturunuz.\n",
    "d=np.ones(10)\n",
    "print(d)\n",
    "\n",
    "# 6- (0-100) arasında eşit aralıklı 5 sayı üretin.\n",
    "e=np.linspace(0,100,5)\n",
    "print(e)\n",
    "\n",
    "# 7- (10-30) arasında rastgele 5 tane tamsayı üretin.\n",
    "f=np.random.randint(10,30,5)\n",
    "print(f)\n",
    "# 8- [-1 ile 1] arasında 10 adet sayı üretin.\n",
    "g=np.random.uniform(-1,1,10)\n",
    "print(g)\n",
    "\n",
    "# 9- (3x5) boyutlarında (10-50) arasında rastgele bir matris oluşturunuz.\n",
    "h=np.random.randint(10,50,size=(3,5))\n",
    "print(h)\n",
    "\n",
    "# 10- Üretilen matrisin satır ve sütun sayıları toplamlarını hesaplayınız ?\n",
    "row_sums = h.sum(axis=1)\n",
    "col_sums = h.sum(axis=0)\n",
    "print(row_sums)\n",
    "print(col_sums)\n",
    "\n",
    "# 11- Üretilen matrisin en büyük, en küçük ve ortalaması nedir ?\n",
    "max_value = h.max()\n",
    "min_value = h.min()\n",
    "mean = h.mean()\n",
    "print(max_value)\n",
    "print(min_value)\n",
    "print(mean)\n",
    "\n",
    "\n",
    "# 12- Üretilen matrisin en büyük değerinin indeksi kaçtır ?\n",
    "max_index = np.unravel_index(np.argmax(h), h.shape)\n",
    "print(max_index)\n",
    "\n",
    "\n",
    "# 13- (10-20) arasındaki sayıları içeren dizinin ilk 3 elemanını seçiniz.\n",
    "i=np.arange(10,20)\n",
    "print(i[0:3])\n",
    "\n",
    "\n",
    "# 14- Üretilen dizinin elemanlarını tersten yazdırın.\n",
    "print(i[::-1])\n",
    "\n",
    "\n",
    "# 15- Üretilen matrisin ilk satırını seçiniz.\n",
    "print(h[0, :])\n",
    "\n",
    "\n",
    "\n",
    "# 16- Üretilen matrisin 2.satır 3.sütundaki elemanı hangisidir ?\n",
    "print(h[1,2])\n",
    "\n",
    "\n",
    "# 17- Üretilen matrisin tüm satırlardaki ilk elemanı seçiniz.\n",
    "print(h[:, 0])\n",
    "\n",
    "\n",
    "# 18- Üretilen matrisin her bir elemanının karesini alınız.\n",
    "print(np.square(h))\n",
    "\n",
    "\n",
    "# 19- Üretilen matris elemanlarının hangisi pozitif çift sayıdır ? Aralığı (-50,+50) arasında yapınız.\n",
    "new_h=np.random.randint(-50,50,size=(3,5))\n",
    "print(new_h)\n",
    "even_new_h=new_h[(new_h%2==0)]\n",
    "print(even_new_h[even_new_h>0])\n",
    "\n",
    "\n"
   ]
  }
 ],
 "metadata": {
  "kernelspec": {
   "display_name": "Python 3",
   "language": "python",
   "name": "python3"
  },
  "language_info": {
   "codemirror_mode": {
    "name": "ipython",
    "version": 3
   },
   "file_extension": ".py",
   "mimetype": "text/x-python",
   "name": "python",
   "nbconvert_exporter": "python",
   "pygments_lexer": "ipython3",
   "version": "3.12.3"
  },
  "orig_nbformat": 4,
  "vscode": {
   "interpreter": {
    "hash": "5026d2d6e7aaaaba093def813beadff083d8733e4a511af01735cbabd156995d"
   }
  }
 },
 "nbformat": 4,
 "nbformat_minor": 2
}
